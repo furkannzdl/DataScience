{
 "cells": [
  {
   "cell_type": "code",
   "execution_count": 10,
   "metadata": {},
   "outputs": [],
   "source": [
    "import pandas as pd\n",
    "import numpy as np\n",
    "import matplotlib.pyplot as plt\n",
    "import seaborn as sns"
   ]
  },
  {
   "cell_type": "code",
   "execution_count": 11,
   "metadata": {},
   "outputs": [],
   "source": [
    "df = pd.read_csv(\"/Users/furkanozdal/Downloads/traffic_density__202407.csv\")"
   ]
  },
  {
   "cell_type": "code",
   "execution_count": 12,
   "metadata": {},
   "outputs": [
    {
     "name": "stdout",
     "output_type": "stream",
     "text": [
      "<class 'pandas.core.frame.DataFrame'>\n",
      "RangeIndex: 1777494 entries, 0 to 1777493\n",
      "Data columns (total 8 columns):\n",
      " #   Column              Dtype  \n",
      "---  ------              -----  \n",
      " 0   DATE_TIME           object \n",
      " 1   LONGITUDE           float64\n",
      " 2   LATITUDE            float64\n",
      " 3   GEOHASH             object \n",
      " 4   MINIMUM_SPEED       int64  \n",
      " 5   MAXIMUM_SPEED       int64  \n",
      " 6   AVERAGE_SPEED       int64  \n",
      " 7   NUMBER_OF_VEHICLES  int64  \n",
      "dtypes: float64(2), int64(4), object(2)\n",
      "memory usage: 108.5+ MB\n"
     ]
    }
   ],
   "source": [
    "df.info()"
   ]
  },
  {
   "cell_type": "code",
   "execution_count": 14,
   "metadata": {},
   "outputs": [
    {
     "data": {
      "text/html": [
       "<div>\n",
       "<style scoped>\n",
       "    .dataframe tbody tr th:only-of-type {\n",
       "        vertical-align: middle;\n",
       "    }\n",
       "\n",
       "    .dataframe tbody tr th {\n",
       "        vertical-align: top;\n",
       "    }\n",
       "\n",
       "    .dataframe thead th {\n",
       "        text-align: right;\n",
       "    }\n",
       "</style>\n",
       "<table border=\"1\" class=\"dataframe\">\n",
       "  <thead>\n",
       "    <tr style=\"text-align: right;\">\n",
       "      <th></th>\n",
       "      <th>DATE_TIME</th>\n",
       "      <th>LONGITUDE</th>\n",
       "      <th>LATITUDE</th>\n",
       "      <th>GEOHASH</th>\n",
       "      <th>MINIMUM_SPEED</th>\n",
       "      <th>MAXIMUM_SPEED</th>\n",
       "      <th>AVERAGE_SPEED</th>\n",
       "      <th>NUMBER_OF_VEHICLES</th>\n",
       "    </tr>\n",
       "  </thead>\n",
       "  <tbody>\n",
       "    <tr>\n",
       "      <th>0</th>\n",
       "      <td>2024-07-01 00:00:00</td>\n",
       "      <td>28.064575</td>\n",
       "      <td>41.201477</td>\n",
       "      <td>sx7fqs</td>\n",
       "      <td>58</td>\n",
       "      <td>163</td>\n",
       "      <td>90</td>\n",
       "      <td>39</td>\n",
       "    </tr>\n",
       "    <tr>\n",
       "      <th>1</th>\n",
       "      <td>2024-07-01 00:00:00</td>\n",
       "      <td>28.888550</td>\n",
       "      <td>41.009216</td>\n",
       "      <td>sxk933</td>\n",
       "      <td>2</td>\n",
       "      <td>48</td>\n",
       "      <td>27</td>\n",
       "      <td>15</td>\n",
       "    </tr>\n",
       "    <tr>\n",
       "      <th>2</th>\n",
       "      <td>2024-07-01 00:00:00</td>\n",
       "      <td>28.504028</td>\n",
       "      <td>41.069641</td>\n",
       "      <td>sxk38s</td>\n",
       "      <td>5</td>\n",
       "      <td>161</td>\n",
       "      <td>37</td>\n",
       "      <td>68</td>\n",
       "    </tr>\n",
       "    <tr>\n",
       "      <th>3</th>\n",
       "      <td>2024-07-01 00:00:00</td>\n",
       "      <td>29.185181</td>\n",
       "      <td>40.998230</td>\n",
       "      <td>sxkc0p</td>\n",
       "      <td>5</td>\n",
       "      <td>61</td>\n",
       "      <td>33</td>\n",
       "      <td>11</td>\n",
       "    </tr>\n",
       "    <tr>\n",
       "      <th>4</th>\n",
       "      <td>2024-07-01 00:00:00</td>\n",
       "      <td>29.196167</td>\n",
       "      <td>40.992737</td>\n",
       "      <td>sxkc0q</td>\n",
       "      <td>9</td>\n",
       "      <td>48</td>\n",
       "      <td>24</td>\n",
       "      <td>13</td>\n",
       "    </tr>\n",
       "  </tbody>\n",
       "</table>\n",
       "</div>"
      ],
      "text/plain": [
       "             DATE_TIME  LONGITUDE   LATITUDE GEOHASH  MINIMUM_SPEED  \\\n",
       "0  2024-07-01 00:00:00  28.064575  41.201477  sx7fqs             58   \n",
       "1  2024-07-01 00:00:00  28.888550  41.009216  sxk933              2   \n",
       "2  2024-07-01 00:00:00  28.504028  41.069641  sxk38s              5   \n",
       "3  2024-07-01 00:00:00  29.185181  40.998230  sxkc0p              5   \n",
       "4  2024-07-01 00:00:00  29.196167  40.992737  sxkc0q              9   \n",
       "\n",
       "   MAXIMUM_SPEED  AVERAGE_SPEED  NUMBER_OF_VEHICLES  \n",
       "0            163             90                  39  \n",
       "1             48             27                  15  \n",
       "2            161             37                  68  \n",
       "3             61             33                  11  \n",
       "4             48             24                  13  "
      ]
     },
     "execution_count": 14,
     "metadata": {},
     "output_type": "execute_result"
    }
   ],
   "source": [
    "df.head()"
   ]
  },
  {
   "cell_type": "code",
   "execution_count": 25,
   "metadata": {},
   "outputs": [],
   "source": [
    "from meteostat import Point, Daily\n",
    "from datetime import datetime"
   ]
  },
  {
   "cell_type": "code",
   "execution_count": 27,
   "metadata": {},
   "outputs": [],
   "source": [
    "districts = {\n",
    "    \"Adalar\": {\"lat\": 40.8750, \"lon\": 29.1456},\n",
    "    \"Arnavutköy\": {\"lat\": 41.2019, \"lon\": 28.7424},\n",
    "    \"Ataşehir\": {\"lat\": 40.9915, \"lon\": 29.1271},\n",
    "    \"Avcılar\": {\"lat\": 40.9791, \"lon\": 28.7215},\n",
    "    \"Bağcılar\": {\"lat\": 41.0390, \"lon\": 28.8567},\n",
    "    \"Bahçelievler\": {\"lat\": 40.9970, \"lon\": 28.8445},\n",
    "    \"Bakırköy\": {\"lat\": 40.9719, \"lon\": 28.8722},\n",
    "    \"Başakşehir\": {\"lat\": 41.0936, \"lon\": 28.8020},\n",
    "    \"Bayrampaşa\": {\"lat\": 41.0465, \"lon\": 28.8995},\n",
    "    \"Beşiktaş\": {\"lat\": 41.0439, \"lon\": 29.0063},\n",
    "    \"Beykoz\": {\"lat\": 41.1328, \"lon\": 29.0840},\n",
    "    \"Beylikdüzü\": {\"lat\": 41.0015, \"lon\": 28.6420},\n",
    "    \"Beyoğlu\": {\"lat\": 41.0386, \"lon\": 28.9864},\n",
    "    \"Büyükçekmece\": {\"lat\": 41.0201, \"lon\": 28.5856},\n",
    "    \"Çatalca\": {\"lat\": 41.1457, \"lon\": 28.4602},\n",
    "    \"Çekmeköy\": {\"lat\": 41.0209, \"lon\": 29.1625},\n",
    "    \"Esenler\": {\"lat\": 41.0439, \"lon\": 28.8881},\n",
    "    \"Esenyurt\": {\"lat\": 41.0342, \"lon\": 28.6767},\n",
    "    \"Eyüp\": {\"lat\": 41.0578, \"lon\": 28.9333},\n",
    "    \"Fatih\": {\"lat\": 41.0168, \"lon\": 28.9497},\n",
    "    \"Gaziosmanpaşa\": {\"lat\": 41.0884, \"lon\": 28.9070},\n",
    "    \"Güngören\": {\"lat\": 41.0194, \"lon\": 28.8693},\n",
    "    \"Kadıköy\": {\"lat\": 40.9900, \"lon\": 29.0270},\n",
    "    \"Kağıthane\": {\"lat\": 41.0794, \"lon\": 28.9706},\n",
    "    \"Kartal\": {\"lat\": 40.8910, \"lon\": 29.1828},\n",
    "    \"Küçükçekmece\": {\"lat\": 41.0041, \"lon\": 28.7761},\n",
    "    \"Maltepe\": {\"lat\": 40.9346, \"lon\": 29.1482},\n",
    "    \"Pendik\": {\"lat\": 40.8743, \"lon\": 29.2280},\n",
    "    \"Sancaktepe\": {\"lat\": 40.9879, \"lon\": 29.2317},\n",
    "    \"Sarıyer\": {\"lat\": 41.1682, \"lon\": 29.0500},\n",
    "    \"Silivri\": {\"lat\": 41.0739, \"lon\": 28.2465},\n",
    "    \"Sultanbeyli\": {\"lat\": 40.9600, \"lon\": 29.2642},\n",
    "    \"Sultangazi\": {\"lat\": 41.1105, \"lon\": 28.8651},\n",
    "    \"Şile\": {\"lat\": 41.1759, \"lon\": 29.6132},\n",
    "    \"Şişli\": {\"lat\": 41.0605, \"lon\": 28.9871},\n",
    "    \"Tuzla\": {\"lat\": 40.8175, \"lon\": 29.3082},\n",
    "    \"Ümraniye\": {\"lat\": 41.0163, \"lon\": 29.1245},\n",
    "    \"Üsküdar\": {\"lat\": 41.0257, \"lon\": 29.0150},\n",
    "    \"Zeytinburnu\": {\"lat\": 40.9946, \"lon\": 28.9169}\n",
    "}"
   ]
  },
  {
   "cell_type": "code",
   "execution_count": 50,
   "metadata": {},
   "outputs": [],
   "source": [
    "# Başlangıç ve bitiş tarihlerini ayarla (son 5 yıl)\n",
    "start = datetime.now() - timedelta(days=5*365)\n",
    "end = datetime.now()\n",
    "\n",
    "# Veriyi tutacak liste\n",
    "all_weather_data = []\n",
    "\n",
    "for district, coords in districts.items():\n",
    "    lat = coords['lat']\n",
    "    lon = coords['lon']\n",
    "    \n",
    "    # İlçe için noktayı oluştur\n",
    "    location = Point(lat, lon)\n",
    "\n",
    "    # Meteostat'tan günlük verileri çek\n",
    "    data = Daily(location, start, end)\n",
    "    data = data.fetch()\n",
    "    # Veriyi listeye ekle\n",
    "    for date, row in data.iterrows():\n",
    "        all_weather_data.append({\n",
    "            'district': district,\n",
    "            'date': date,\n",
    "            'temperature': row['tavg'],\n",
    "            'precipitation': row['prcp'],\n",
    "            'snowfall': row['snow'],\n",
    "            'wind_speed': row['wspd'],\n",
    "            'pressure': row['pres']\n",
    "        })"
   ]
  },
  {
   "cell_type": "code",
   "execution_count": 51,
   "metadata": {},
   "outputs": [],
   "source": [
    "\n",
    "\n",
    "\n",
    "\n",
    "\n",
    "    \n",
    "\n",
    "# Pandas DataFrame'e dönüştür\n",
    "df = pd.DataFrame(all_weather_data)\n",
    "\n",
    "\n"
   ]
  },
  {
   "cell_type": "code",
   "execution_count": 38,
   "metadata": {},
   "outputs": [
    {
     "name": "stdout",
     "output_type": "stream",
     "text": [
      "<class 'pandas.core.frame.DataFrame'>\n",
      "RangeIndex: 135050 entries, 0 to 135049\n",
      "Data columns (total 7 columns):\n",
      " #   Column         Non-Null Count   Dtype         \n",
      "---  ------         --------------   -----         \n",
      " 0   district       135050 non-null  object        \n",
      " 1   date           135050 non-null  datetime64[ns]\n",
      " 2   temperature    134912 non-null  float64       \n",
      " 3   precipitation  45455 non-null   float64       \n",
      " 4   snowfall       0 non-null       float64       \n",
      " 5   wind_speed     134883 non-null  float64       \n",
      " 6   pressure       110437 non-null  float64       \n",
      "dtypes: datetime64[ns](1), float64(5), object(1)\n",
      "memory usage: 7.2+ MB\n"
     ]
    }
   ],
   "source": [
    "df.info()"
   ]
  },
  {
   "cell_type": "code",
   "execution_count": 52,
   "metadata": {},
   "outputs": [
    {
     "name": "stdout",
     "output_type": "stream",
     "text": [
      "<class 'pandas.core.frame.DataFrame'>\n",
      "RangeIndex: 67525 entries, 0 to 67524\n",
      "Data columns (total 7 columns):\n",
      " #   Column         Non-Null Count  Dtype         \n",
      "---  ------         --------------  -----         \n",
      " 0   district       67525 non-null  object        \n",
      " 1   date           67525 non-null  datetime64[ns]\n",
      " 2   temperature    67463 non-null  float64       \n",
      " 3   precipitation  45455 non-null  float64       \n",
      " 4   snowfall       0 non-null      float64       \n",
      " 5   wind_speed     67462 non-null  float64       \n",
      " 6   pressure       66853 non-null  float64       \n",
      "dtypes: datetime64[ns](1), float64(5), object(1)\n",
      "memory usage: 3.6+ MB\n"
     ]
    }
   ],
   "source": [
    "df.info()"
   ]
  },
  {
   "cell_type": "code",
   "execution_count": 39,
   "metadata": {},
   "outputs": [
    {
     "data": {
      "text/plain": [
       "0        2014-08-23\n",
       "1        2014-08-24\n",
       "2        2014-08-25\n",
       "3        2014-08-26\n",
       "4        2014-08-27\n",
       "            ...    \n",
       "135045   2024-08-15\n",
       "135046   2024-08-16\n",
       "135047   2024-08-17\n",
       "135048   2024-08-18\n",
       "135049   2024-08-19\n",
       "Name: date, Length: 135050, dtype: datetime64[ns]"
      ]
     },
     "execution_count": 39,
     "metadata": {},
     "output_type": "execute_result"
    }
   ],
   "source": [
    "df[\"date\"]"
   ]
  },
  {
   "cell_type": "code",
   "execution_count": 40,
   "metadata": {},
   "outputs": [
    {
     "name": "stdout",
     "output_type": "stream",
     "text": [
      "CSV dosyası başarıyla oluşturuldu.\n"
     ]
    }
   ],
   "source": [
    "# CSV dosyasına yaz\n",
    "df.to_csv('istanbul_districts_weather_last_5_years.csv', index=False)\n",
    "\n",
    "print(\"CSV dosyası başarıyla oluşturuldu.\")"
   ]
  },
  {
   "cell_type": "code",
   "execution_count": 53,
   "metadata": {},
   "outputs": [
    {
     "data": {
      "text/plain": [
       "district             0\n",
       "date                 0\n",
       "temperature         62\n",
       "precipitation    22070\n",
       "snowfall         67525\n",
       "wind_speed          63\n",
       "pressure           672\n",
       "dtype: int64"
      ]
     },
     "execution_count": 53,
     "metadata": {},
     "output_type": "execute_result"
    }
   ],
   "source": [
    "df.isna().sum()"
   ]
  },
  {
   "cell_type": "code",
   "execution_count": 41,
   "metadata": {},
   "outputs": [
    {
     "data": {
      "text/plain": [
       "district              0\n",
       "date                  0\n",
       "temperature         138\n",
       "precipitation     89595\n",
       "snowfall         135050\n",
       "wind_speed          167\n",
       "pressure          24613\n",
       "dtype: int64"
      ]
     },
     "execution_count": 41,
     "metadata": {},
     "output_type": "execute_result"
    }
   ],
   "source": [
    "df.isna().sum()"
   ]
  },
  {
   "cell_type": "code",
   "execution_count": 46,
   "metadata": {},
   "outputs": [
    {
     "data": {
      "text/plain": [
       "array([nan])"
      ]
     },
     "execution_count": 46,
     "metadata": {},
     "output_type": "execute_result"
    }
   ],
   "source": [
    "df[\"snowfall\"].unique()"
   ]
  },
  {
   "cell_type": "code",
   "execution_count": 49,
   "metadata": {},
   "outputs": [
    {
     "data": {
      "text/plain": [
       "89595"
      ]
     },
     "execution_count": 49,
     "metadata": {},
     "output_type": "execute_result"
    }
   ],
   "source": [
    "df[\"precipitation\"].isna().sum()"
   ]
  },
  {
   "cell_type": "code",
   "execution_count": null,
   "metadata": {},
   "outputs": [],
   "source": []
  }
 ],
 "metadata": {
  "kernelspec": {
   "display_name": "base",
   "language": "python",
   "name": "python3"
  },
  "language_info": {
   "codemirror_mode": {
    "name": "ipython",
    "version": 3
   },
   "file_extension": ".py",
   "mimetype": "text/x-python",
   "name": "python",
   "nbconvert_exporter": "python",
   "pygments_lexer": "ipython3",
   "version": "3.12.4"
  }
 },
 "nbformat": 4,
 "nbformat_minor": 2
}
